{
 "cells": [
  {
   "cell_type": "code",
   "execution_count": 1,
   "metadata": {},
   "outputs": [],
   "source": [
    "!pip install pyfiglet termcolor art > /dev/null"
   ]
  },
  {
   "cell_type": "code",
   "execution_count": 5,
   "metadata": {},
   "outputs": [
    {
     "data": {
      "text/html": [
       "\n",
       "                <audio  controls=\"controls\" autoplay=\"autoplay\">\n",
       "                    <source src=\"data:audio/mpeg;base64,PD94bWwgdmVyc2lvbj0iMS4wIiBlbmNvZGluZz0iVVRGLTgiPz4KPEVycm9yPjxDb2RlPkFjY2Vzc0RlbmllZDwvQ29kZT48TWVzc2FnZT5BY2Nlc3MgRGVuaWVkPC9NZXNzYWdlPjxSZXF1ZXN0SWQ+UThaVlRRODZKQ0VUTU42QjwvUmVxdWVzdElkPjxIb3N0SWQ+anYwU1YraitDS1YzdnpKb0ZMZFFUdXNzN2k5WkZreDQyem1jcWpmZlFGSFN1c3I0VnV1aDlFNDd1emdrT1YxZllwQmF6M0lhd1hBPTwvSG9zdElkPjwvRXJyb3I+\" type=\"audio/mpeg\" />\n",
       "                    Your browser does not support the audio element.\n",
       "                </audio>\n",
       "              "
      ],
      "text/plain": [
       "<IPython.lib.display.Audio object>"
      ]
     },
     "metadata": {},
     "output_type": "display_data"
    },
    {
     "name": "stdout",
     "output_type": "stream",
     "text": [
      "\u001b[35m    __  __                       \n",
      "   / / / /___ _____  ____  __  __\n",
      "  / /_/ / __ `/ __ \\/ __ \\/ / / /\n",
      " / __  / /_/ / /_/ / /_/ / /_/ / \n",
      "/_/ /_/\\__,_/ .___/ .___/\\__, /  \n",
      "           /_/   /_/    /____/   \n",
      "    ____  _      __  __        __            __\n",
      "   / __ )(_)____/ /_/ /_  ____/ /___ ___  __/ /\n",
      "  / __  / / ___/ __/ __ \\/ __  / __ `/ / / / / \n",
      " / /_/ / / /  / /_/ / / / /_/ / /_/ / /_/ /_/  \n",
      "/_____/_/_/   \\__/_/ /_/\\__,_/\\__,_/\\__, (_)   \n",
      "                                   /____/      \n",
      "\u001b[0m\n",
      "\u001b[36m\n",
      " .----------------.  .----------------.  .----------------.  .----------------.                      .----------------.  .----------------.  .----------------.  .----------------.  .----------------.  .----------------.                      .----------------.  .----------------.  .----------------.  .-----------------. .----------------.  .----------------.  .----------------. \n",
      "| .--------------. || .--------------. || .--------------. || .--------------. |                    | .--------------. || .--------------. || .--------------. || .--------------. || .--------------. || .--------------. |                    | .--------------. || .--------------. || .--------------. || .--------------. || .--------------. || .--------------. || .--------------. |\n",
      "| |    ______    | || |     ____     | || |     ____     | || |  ________    | |                    | | ____   ____  | || |     _____    | || |   ______     | || |  _________   | || |    _______   | || |              | |                    | |   ________   | || |  _________   | || |  ____  ____  | || | ____  _____  | || |  _________   | || |   ______     | || |              | |\n",
      "| |  .' ___  |   | || |   .'    `.   | || |   .'    `.   | || | |_   ___ `.  | |                    | ||_  _| |_  _| | || |    |_   _|   | || |  |_   _ \\    | || | |_   ___  |  | || |   /  ___  |  | || |              | |                    | |  |  __   _|  | || | |_   ___  |  | || | |_  _||_  _| | || ||_   \\|_   _| | || | |_   ___  |  | || |  |_   __ \\   | || |      _       | |\n",
      "| | / .'   \\_|   | || |  /  .--.  \\  | || |  /  .--.  \\  | || |   | |   `. \\ | |                    | |  \\ \\   / /   | || |      | |     | || |    | |_) |   | || |   | |_  \\_|  | || |  |  (__ \\_|  | || |              | |                    | |  |_/  / /    | || |   | |_  \\_|  | || |   \\ \\  / /   | || |  |   \\ | |   | || |   | |_  \\_|  | || |    | |__) |  | || |     | |      | |\n",
      "| | | |    ____  | || |  | |    | |  | || |  | |    | |  | || |   | |    | | | |                    | |   \\ \\ / /    | || |      | |     | || |    |  __'.   | || |   |  _|  _   | || |   '.___`-.   | || |              | |                    | |     .'.' _   | || |   |  _|  _   | || |    \\ \\/ /    | || |  | |\\ \\| |   | || |   |  _|  _   | || |    |  ___/   | || |     | |      | |\n",
      "| | \\ `.___]  _| | || |  \\  `--'  /  | || |  \\  `--'  /  | || |  _| |___.' / | |                    | |    \\ ' /     | || |     _| |_    | || |   _| |__) |  | || |  _| |___/ |  | || |  |`\\____) |  | || |      _       | |                    | |   _/ /__/ |  | || |  _| |___/ |  | || |    _|  |_    | || | _| |_\\   |_  | || |  _| |___/ |  | || |   _| |_      | || |     | |      | |\n",
      "| |  `._____.'   | || |   `.____.'   | || |   `.____.'   | || | |________.'  | |                    | |     \\_/      | || |    |_____|   | || |  |_______/   | || | |_________|  | || |  |_______.'  | || |     )_/      | |                    | |  |________|  | || | |_________|  | || |   |______|   | || ||_____|\\____| | || | |_________|  | || |  |_____|     | || |     |_|      | |\n",
      "| |              | || |              | || |              | || |              | |                    | |              | || |              | || |              | || |              | || |              | || |              | |                    | |              | || |              | || |              | || |              | || |              | || |              | || |     (_)      | |\n",
      "| '--------------' || '--------------' || '--------------' || '--------------' |                    | '--------------' || '--------------' || '--------------' || '--------------' || '--------------' || '--------------' |                    | '--------------' || '--------------' || '--------------' || '--------------' || '--------------' || '--------------' || '--------------' |\n",
      " '----------------'  '----------------'  '----------------'  '----------------'                      '----------------'  '----------------'  '----------------'  '----------------'  '----------------'  '----------------'                      '----------------'  '----------------'  '----------------'  '----------------'  '----------------'  '----------------'  '----------------' \n",
      "\u001b[0m\n",
      "        🌟\n",
      "                  🎊\n",
      "                       💫\n",
      "                                           ✨\n",
      "                                          ✨\n",
      "             ✨\n",
      "                     🎊\n",
      "                                                 🎉\n",
      "                                    💫\n",
      "                        🎈\n",
      "                                          ✨\n",
      "                             🎈\n",
      "             ✨\n",
      "                                       🎊\n",
      "         🎉\n",
      "                                              🎉\n",
      "                       🎉\n",
      "                         🌟\n",
      "       🎊\n",
      "                                       ✨\n",
      "\u001b[33m\n",
      "       i i i i i\n",
      "     |:H:a:p:p:y:|\n",
      "   __|___________|__\n",
      "  |^^^^^^^^^^^^^^^^^|\n",
      "  |:B:i:r:t:h:d:a:y:|\n",
      "  |      Zeynep!    |\n",
      "  ~~~~~~~~~~~~~~~~~~~\n",
      "\u001b[0m\n",
      "\u001b[32m\n",
      "🎈🎉 Happy Birthday, Zeynep! 🎉🎈\u001b[0m\n"
     ]
    }
   ],
   "source": [
    "# 🎂 Doğum Günü Kutlama – Zeynep 🎂\n",
    "import time\n",
    "import random\n",
    "from termcolor import colored\n",
    "import pyfiglet\n",
    "from art import text2art\n",
    "from IPython.display import Audio, display\n",
    "import os\n",
    "\n",
    "name = \"Zeynep\"\n",
    "\n",
    "# 🎶 Müzik indir\n",
    "if not os.path.exists(\"birthday_song.mp3\"):\n",
    "    os.system('curl -s -o birthday_song.mp3 https://cdn.pixabay.com/download/audio/2022/03/15/audio_c03b8e4d2d.mp3?filename=happy-birthday-12260.mp3')\n",
    "\n",
    "# 🔊 Müzik çal\n",
    "display(Audio(filename=\"birthday_song.mp3\", autoplay=True))\n",
    "\n",
    "# 🌈 Başlık\n",
    "ascii_banner = pyfiglet.figlet_format(\"Happy Birthday!\", font=\"slant\")\n",
    "print(colored(ascii_banner, \"magenta\"))\n",
    "\n",
    "# 💖 Mesaj\n",
    "message = text2art(f\"Good vibes, {name}!\", font=\"block\")\n",
    "print(colored(message, \"cyan\"))\n",
    "\n",
    "# 🎉 Konfeti efekti\n",
    "confetti = [\"✨\", \"🎊\", \"🎈\", \"🎉\", \"🌟\", \"💫\"]\n",
    "for _ in range(20):\n",
    "    print(\" \" * random.randint(0, 50) + random.choice(confetti))\n",
    "    time.sleep(0.1)\n",
    "\n",
    "# 🎂 ASCII Pasta\n",
    "cake = r\"\"\"\n",
    "       i i i i i\n",
    "     |:H:a:p:p:y:|\n",
    "   __|___________|__\n",
    "  |^^^^^^^^^^^^^^^^^|\n",
    "  |:B:i:r:t:h:d:a:y:|\n",
    "  |      Zeynep!    |\n",
    "  ~~~~~~~~~~~~~~~~~~~\n",
    "\"\"\"\n",
    "print(colored(cake, \"yellow\"))\n",
    "\n",
    "print(colored(f\"\\n🎈🎉 Happy Birthday, {name}! 🎉🎈\", \"green\"))\n"
   ]
  }
 ],
 "metadata": {
  "kernelspec": {
   "display_name": "Python 3",
   "language": "python",
   "name": "python3"
  },
  "language_info": {
   "codemirror_mode": {
    "name": "ipython",
    "version": 3
   },
   "file_extension": ".py",
   "mimetype": "text/x-python",
   "name": "python",
   "nbconvert_exporter": "python",
   "pygments_lexer": "ipython3",
   "version": "3.13.5"
  }
 },
 "nbformat": 4,
 "nbformat_minor": 2
}
